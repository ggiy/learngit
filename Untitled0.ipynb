{
  "nbformat": 4,
  "nbformat_minor": 0,
  "metadata": {
    "colab": {
      "name": "Untitled0.ipynb",
      "version": "0.3.2",
      "provenance": [],
      "private_outputs": true,
      "collapsed_sections": [],
      "include_colab_link": true
    },
    "kernelspec": {
      "name": "python3",
      "display_name": "Python 3"
    },
    "accelerator": "GPU"
  },
  "cells": [
    {
      "cell_type": "markdown",
      "metadata": {
        "id": "view-in-github",
        "colab_type": "text"
      },
      "source": [
        "<a href=\"https://colab.research.google.com/github/ggiy/learngit/blob/master/Untitled0.ipynb\" target=\"_parent\"><img src=\"https://colab.research.google.com/assets/colab-badge.svg\" alt=\"Open In Colab\"/></a>"
      ]
    },
    {
      "cell_type": "markdown",
      "metadata": {
        "id": "Rfh6M05KKjUx",
        "colab_type": "text"
      },
      "source": [
        "函数和模块的使用：\n",
        "           1、函数参数：\n",
        "                      a、默认参数：\n",
        "                              def add(a=0, b=0, c=0):\n",
        "                                      return a + b + c\n",
        "                              print(add())\n",
        "                              print(add(1))\n",
        "                              print(add(1, 2))\n",
        "                              print(add(1, 2, 3))\n",
        "                              # 传递参数时可以不按照设定的顺序进行传递\n",
        "                              print(add(c=50, a=100, b=200))\n",
        "                      b、可变参数：\n",
        "                              # 在参数名前面的*表示args是一个可变参数\n",
        "                              # 即在调用add函数时可以传入0个或多个参数\n",
        "                              def add(*args):\n",
        "                              total = 0\n",
        "                              for val in args:\n",
        "                                   total += val\n",
        "                                   return total\n",
        "\n",
        "\n",
        "                              print(add())\n",
        "                              print(add(1))\n",
        "                              print(add(1, 2))\n",
        "                              print(add(1, 2, 3))\n",
        "                              print(add(1, 3, 5, 7, 9))\n",
        "为什么使用if __name__ == '__main__':\n",
        "            __name__是Python中一个隐含的变量它代表了模块的名字,只有被Python解释器直接执行的模块的名字才是__main__,这样就可以只在直接执行这个模块时if语句下的代码才会被执行。\n",
        "变量作用域：\n",
        "          全局变量：在整个代码中都存在，生命周期长\n",
        "          局部变量：在代码块中存在，随着代码块的结束而结束，可以使用global标全局变量识\n",
        "          且在嵌套块中外层代码块中的变量仍然存在，但内层变量对外层变量封闭，可用nonlocal标识外层变量,即全局>代码块>嵌套块\n",
        "          def foo():\n",
        "                b = 'hello'\n",
        "\n",
        "                def bar():  # Python中可以在函数内部再定义函数\n",
        "                     c = True\n",
        "                     print(a)\n",
        "                     print(b)\n",
        "                     print(c)\n",
        "\n",
        "                bar()\n",
        "            # print(c)  # NameError: name 'c' is not defined\n",
        "\n",
        "\n",
        "        if __name__ == '__main__':\n",
        "                a = 100\n",
        "             # print(b)  # NameError: name 'b' is not defined\n",
        "                foo()\n",
        "          "
      ]
    }
  ]
}