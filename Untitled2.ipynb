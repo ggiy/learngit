{
  "nbformat": 4,
  "nbformat_minor": 0,
  "metadata": {
    "colab": {
      "name": "Untitled2.ipynb",
      "version": "0.3.2",
      "provenance": [],
      "include_colab_link": true
    },
    "kernelspec": {
      "name": "python3",
      "display_name": "Python 3"
    }
  },
  "cells": [
    {
      "cell_type": "markdown",
      "metadata": {
        "id": "view-in-github",
        "colab_type": "text"
      },
      "source": [
        "<a href=\"https://colab.research.google.com/github/ggiy/learngit/blob/master/Untitled2.ipynb\" target=\"_parent\"><img src=\"https://colab.research.google.com/assets/colab-badge.svg\" alt=\"Open In Colab\"/></a>"
      ]
    },
    {
      "cell_type": "markdown",
      "metadata": {
        "id": "fQB1JIGIXF9b",
        "colab_type": "text"
      },
      "source": [
        ""
      ]
    },
    {
      "cell_type": "code",
      "metadata": {
        "id": "MO1gDhCaXG4b",
        "colab_type": "code",
        "colab": {}
      },
      "source": [
        "'''\n",
        "爬取安居客洪山区的二手房的信息并保存到MongoDB中\n",
        "\n",
        "\n",
        "'''\n",
        "import requests\n",
        "from pyquery import PyQuery as pq\n",
        "import pymongo\n",
        "import re\n",
        "client = pymongo.MongoClient(host='localhost', port=27017)\n",
        "headers = {\n",
        "        'User-Agent': 'Mozilla/5.0(Macintosh; Intel Mac OS X 10_13_3) AppleWebKit/537.36 (KHTML, like Gecko) Chrome/65.0.3325.162 Safari/537.36'  }\n",
        "class Crawler(object):\n",
        "    def __init__(self, url):\n",
        "        self.url = url\n",
        "\n",
        "    def getpage(self):\n",
        "        try:\n",
        "            response = requests.get(self.url, headers=headers)\n",
        "            return response.text\n",
        "        except requests.ConnectionError:\n",
        "            print(\"获取网页内容失败...\")\n",
        "    def getHref(self):\n",
        "        result = self.getpage()\n",
        "        recompile = re.compile(r'<a.*?href=\"(.*?)\" target.*?</a>', re.S)\n",
        "        results = recompile.findall(result)\n",
        "        results = results[3::]\n",
        "        return results\n",
        "    def getInfo(self):\n",
        "        result = self.getpage()\n",
        "        doc = pq(result)\n",
        "        titles = doc('#content').find('.house-title').find('a').items()\n",
        "        title = []\n",
        "        for ti in titles:\n",
        "          #  info = {}\n",
        "           # info['title'] = ti.attr('title')\n",
        "            title.append(ti.attr('title'))\n",
        "        print(title)\n",
        "        styles = doc('#content').find('.details-item').find('span').items()\n",
        "        style = []\n",
        "        for sty in styles:\n",
        "            style.append(sty.text())\n",
        "        return title, style\n",
        "    def savedata(self):\n",
        "        db = client.test\n",
        "        collection = db.house_details\n",
        "        x,y = self.getInfo()\n",
        "        print(x,y)\n",
        "        y = [n for n in y if n != '']\n",
        "        print(len(x))\n",
        "        s = []\n",
        "        for i in range(0, len(y), 6):\n",
        "            s.append(y[i:i+6])\n",
        "        print(s)\n",
        "        datas = []\n",
        "        for i,j in zip(x, s):\n",
        "            data = {\n",
        "                'title': i,\n",
        "                'time': j[3],\n",
        "                'place': j[5],\n",
        "                'area': j[1],\n",
        "                'style': j[0]+' '+j[2]\n",
        "            }\n",
        "            datas.append(data)\n",
        "        print(datas)\n",
        "        collection.insert_many(datas)\n",
        "if __name__ == \"__main__\":\n",
        "    crawl = Crawler(\"https://wuhan.anjuke.com/sale/hongshana/?from=SearchBar\")\n",
        "    crawl.savedata()\n",
        "\n"
      ],
      "execution_count": 0,
      "outputs": []
    }
  ]
}